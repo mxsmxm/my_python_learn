{
 "cells": [
  {
   "cell_type": "code",
   "execution_count": 1,
   "metadata": {},
   "outputs": [
    {
     "name": "stdout",
     "output_type": "stream",
     "text": [
      "修改前： ['Cloudbabies.S01E01.Fly.Away.Home[www.lxwc.com.cn].avi', 'Cloudbabies.S01E02.The.Right.Colour.To.Be[www.lxwc.com.cn].avi']\n",
      "Cloudbabies.S01E01.Fly.Away.Home.avi\n",
      "Cloudbabies.S01E02.The.Right.Colour.To.Be.avi\n",
      "***************************************\n",
      "修改后：['Cloudbabies.S01E01.Fly.Away.Home.avi', 'Cloudbabies.S01E02.The.Right.Colour.To.Be.avi']\n"
     ]
    }
   ],
   "source": [
    "import os\n",
    "import re\n",
    "import sys\n",
    "\n",
    "fileList = os.listdir(r\"./video\")\n",
    "# 输出此文件夹中包含的文件名称\n",
    "print(\"修改前：\" ,fileList)\n",
    "# 得到当前工作目录\n",
    "currentpath = os.getcwd()\n",
    "# 将当前工作目录修改为待修改文件夹的位置\n",
    "os.chdir(r\"./video\")\n",
    "#定义正则表达式 --> Cloudbabies.S01E01.Fly.Away.Home[www.lxwc.com.cn].avi\n",
    "renameRegex = re.compile(r'(.*)(\\[www.lxwc.com.cn\\])(\\.avi)')\n",
    "# 遍历文件夹中所有文件\n",
    "for fileName in fileList:\n",
    "    mo = re.search(renameRegex, fileName)\n",
    "    newName = mo.group(1)+mo.group(3)\n",
    "    print(newName)\n",
    "    # 文件重新命名\n",
    "    os.rename(fileName,newName)\n",
    "print(\"***************************************\")\n",
    "# 改回程序运行前的工作目录\n",
    "os.chdir(currentpath)\n",
    "# 刷新\n",
    "sys.stdin.flush()\n",
    "# 输出修改后文件夹中包含的文件名称\n",
    "print(\"修改后：\" + str(os.listdir(r\"./video\")))\n"
   ]
  }
 ],
 "metadata": {
  "kernelspec": {
   "display_name": "Python 3",
   "language": "python",
   "name": "python3"
  },
  "language_info": {
   "codemirror_mode": {
    "name": "ipython",
    "version": 3
   },
   "file_extension": ".py",
   "mimetype": "text/x-python",
   "name": "python",
   "nbconvert_exporter": "python",
   "pygments_lexer": "ipython3",
   "version": "3.7.3"
  }
 },
 "nbformat": 4,
 "nbformat_minor": 2
}
