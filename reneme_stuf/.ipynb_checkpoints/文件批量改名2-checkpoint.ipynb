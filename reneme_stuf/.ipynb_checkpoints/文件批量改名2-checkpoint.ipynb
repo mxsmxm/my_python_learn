{
 "cells": [
  {
   "cell_type": "markdown",
   "metadata": {},
   "source": [
    "### 文件批量改名2--闯入命令行参数"
   ]
  },
  {
   "cell_type": "code",
   "execution_count": null,
   "metadata": {},
   "outputs": [],
   "source": [
    "import os\n",
    "\n",
    "import re\n",
    "\n",
    "import sys\n",
    "\n",
    "import argparse\n",
    "\n",
    "# 获取命令行参数\n",
    "parser = argparse.ArgumentParser() \n",
    "parser.add_argument('--filder',help = '传入目录参数') \n",
    "parser.add_argument('--num',help='传入需要添加在文件名前的数字')\n",
    "args = parser.parse_args() \n",
    "\n",
    "fileList = os.listdir('./'+args.filder)\n",
    "\n",
    "# 输出此文件夹中包含的文件名称\n",
    "\n",
    "print(\"修改前：\" ,fileList)\n",
    "\n",
    "# 得到当前工作目录\n",
    "\n",
    "currentpath = os.getcwd()\n",
    "\n",
    "# 将当前工作目录修改为待修改文件夹的位置\n",
    "\n",
    "os.chdir('./'+args.filder)\n",
    "\n",
    "\n",
    "# 遍历文件夹中所有文件\n",
    "\n",
    "for fileName in fileList:\n",
    "\n",
    "\n",
    "    newName = args.num + fileName\n",
    "\n",
    "    print(newName)\n",
    "\n",
    "    # 文件重新命名\n",
    "\n",
    "    os.rename(fileName,newName)\n",
    "\n",
    "print(\"***************************************\")\n",
    "\n",
    "# 改回程序运行前的工作目录\n",
    "\n",
    "os.chdir(currentpath)\n",
    "\n",
    "# 刷新\n",
    "\n",
    "sys.stdin.flush()\n",
    "\n",
    "# 输出修改后文件夹中包含的文件名称\n",
    "\n",
    "print(\"修改后：\" + str(os.listdir('./'+args.filder)))"
   ]
  }
 ],
 "metadata": {
  "kernelspec": {
   "display_name": "Python 3",
   "language": "python",
   "name": "python3"
  },
  "language_info": {
   "codemirror_mode": {
    "name": "ipython",
    "version": 3
   },
   "file_extension": ".py",
   "mimetype": "text/x-python",
   "name": "python",
   "nbconvert_exporter": "python",
   "pygments_lexer": "ipython3",
   "version": "3.8.2"
  }
 },
 "nbformat": 4,
 "nbformat_minor": 4
}
