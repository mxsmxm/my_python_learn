{
 "cells": [
  {
   "cell_type": "code",
   "execution_count": 8,
   "metadata": {},
   "outputs": [
    {
     "name": "stdout",
     "output_type": "stream",
     "text": [
      "完成！\n"
     ]
    }
   ],
   "source": [
    "# 需要的库pip install pypiwin32（仅Windows平台）\n",
    "import os\n",
    "from win32com import client as wc #导入模块\n",
    "\n",
    "# 设置路径\n",
    "root = os.getcwd()\n",
    "os.chdir(currentpath)  # 这里已经修改了工作路径，但是在这个例子中用不了相对路径\n",
    "data_folder = os.path.join(root,'data')\n",
    "dist_folder = os.path.join(root,'converted')\n",
    "# print(data_folder,dist_folder)\n",
    "\n",
    "word = wc.Dispatch(\"Word.Application\") # 打开word应用程序\n",
    "files = os.listdir(r\"./data\")\n",
    "# print(files)\n",
    "\n",
    "for file in files:\n",
    "    file_path = os.path.join(data_folder,file)\n",
    "    doc = word.Documents.Open(file_path) #打开word文件\n",
    "    new_file_path = os.path.join(dist_folder,f'{file}x')\n",
    "    doc.SaveAs(new_file_path, 12)#另存为后缀为\".docx\"的文件，其中参数12指docx文件\n",
    "    doc.Close() #关闭原来word文件\n",
    "word.Quit()\n",
    "print(\"完成！\")\n",
    "\n",
    "# doc = word.Documents.Open(r'C:\\Users\\mx\\Desktop\\test2\\data\\_李女士_中文_20201109_1604915228050.doc') #打开word文件\n",
    "# doc.SaveAs(\"{}x\".format(file), 12)#另存为后缀为\".docx\"的文件，其中参数12指docx文件\n",
    "# doc.Close() #关闭原来word文件"
   ]
  },
  {
   "cell_type": "code",
   "execution_count": null,
   "metadata": {},
   "outputs": [],
   "source": []
  }
 ],
 "metadata": {
  "kernelspec": {
   "display_name": "Python 3",
   "language": "python",
   "name": "python3"
  },
  "language_info": {
   "codemirror_mode": {
    "name": "ipython",
    "version": 3
   },
   "file_extension": ".py",
   "mimetype": "text/x-python",
   "name": "python",
   "nbconvert_exporter": "python",
   "pygments_lexer": "ipython3",
   "version": "3.8.2"
  }
 },
 "nbformat": 4,
 "nbformat_minor": 4
}
