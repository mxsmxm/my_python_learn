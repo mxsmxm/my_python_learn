{
 "cells": [
  {
   "cell_type": "markdown",
   "metadata": {},
   "source": [
    "# 基本设置\n",
    "* 颜色，初识位置，落笔,初识面向角度，模式设置，清空,速度\n",
    "* reset()   ------>清空画布，并充值位置与朝向\n",
    "* speed()   ------>参数为0-10之间的整数\n",
    "* mode(\"logo\") 角度朝向和scratch一样,默认朝向是0度方向(上)，,调用该函数会进行重置       "
   ]
  },
  {
   "cell_type": "code",
   "execution_count": null,
   "metadata": {},
   "outputs": [],
   "source": [
    "from turtle import *\n",
    "from time import sleep\n",
    "\n",
    "# 设置部分\n",
    "mode(\"logo\")         #角度朝向和scratch一样,默认朝向是0度方向(上)，,调用该函数会进行重置\n",
    "bgcolor((0,0.5,0.5)) #设置背景颜色，参数可以是字符串、或者一个元组(r,g,b)数值在0-1之间\n",
    "setup(960,720)          #设置屏幕宽高,中心点默认是画布正中间\n",
    "clear()              #清空画布\n",
    "speed(10)             #设置乌龟运行速度\n",
    "color(\"red\",\"yellow\")#设置pencolor 与 fillcolor\n",
    "goto(0,0)            #移到xy坐标\n",
    "pendown()            #落笔\n",
    "setheading(90)       #设置初识朝向，90度向右（logo模式）\n",
    "\n",
    "\n",
    "\"\"\"\n",
    "    定义正多边形：\n",
    "    正三角形，正四边形，正五边形...\n",
    "\"\"\"\n",
    "def drawTriangle(size):\n",
    "    for i in range(3):\n",
    "        fd(size)\n",
    "        right(360/3)\n",
    "\n",
    "def drawSquare(size):\n",
    "    for i in range(4):\n",
    "        fd(size)\n",
    "        right(360/4)\n",
    "\n",
    "def drawPentagon(size):\n",
    "    for i in range(5):\n",
    "        fd(size)\n",
    "        right(360/5)\n",
    "\n",
    "def drawCircel(size):\n",
    "    for i in range(360):\n",
    "        fd(size)\n",
    "        right(1)\n",
    "drawTriangle(100)\n",
    "sleep(1)\n",
    "clear()\n",
    "drawSquare(100)\n",
    "sleep(1)\n",
    "clear()\n",
    "drawPentagon(100)\n",
    "sleep(1)\n",
    "clear()\n",
    "drawCircel(1)\n",
    "\n",
    "\n",
    "done()               #主循环"
   ]
  }
 ],
 "metadata": {
  "kernelspec": {
   "display_name": "Python 3",
   "language": "python",
   "name": "python3"
  },
  "language_info": {
   "codemirror_mode": {
    "name": "ipython",
    "version": 3
   },
   "file_extension": ".py",
   "mimetype": "text/x-python",
   "name": "python",
   "nbconvert_exporter": "python",
   "pygments_lexer": "ipython3",
   "version": "3.8.2"
  }
 },
 "nbformat": 4,
 "nbformat_minor": 4
}
