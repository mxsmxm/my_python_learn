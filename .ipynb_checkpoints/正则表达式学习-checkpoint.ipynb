{
 "cells": [
  {
   "cell_type": "markdown",
   "metadata": {},
   "source": [
    "### 匹配电话号码\n",
    "* \\d 是一个正则表达式，表示一个数字字符，即任何一位 0 到 9 的数字。\n",
    "* 在一个模式后加上花括号包围的3 -> {3}就是说，“匹配这个模式3次”\n",
    "* 向re.compile()传入一个正则表达式字符串，返回一个Regex 对象\n",
    "* Regex对象的search 方法查找传入的字符串，寻找该正则表达式的所有匹配，如果没有匹配，返回None，如果找到了匹配，返回一个Match对象。match对象有一个group 方法，它返回被查找字符串中实际匹配的文本。"
   ]
  },
  {
   "cell_type": "code",
   "execution_count": 21,
   "metadata": {},
   "outputs": [
    {
     "name": "stdout",
     "output_type": "stream",
     "text": [
      "444-231-4321\n"
     ]
    }
   ],
   "source": [
    "import re\n",
    "\n",
    "example = \"my number is 444-231-4321,and his number is 454-213-8765,and her number is 1111-666-9999\"\n",
    "phoneNumberRegex = re.compile(r'\\d{3}-\\d{3}-\\d{4}')# 传入原始字符串，反斜杠不会被转译\n",
    "mo = phoneNumberRegex.search(example)\n",
    "if mo :\n",
    "    print(mo.group()) #只返回一个匹配结果\n",
    "else:\n",
    "    print(\"没有找到\")"
   ]
  },
  {
   "cell_type": "markdown",
   "metadata": {},
   "source": [
    "### 添加括号将在正则表达式中创建“分组” ：（\\d{3})-(\\d{3})-(\\d{4}) ->创建了3个分组\n",
    "* 向 group()传入整数 1 -> 返回第一分组\n",
    "* 传入0或不传入 ->  返回整个匹配的文本 \n",
    "* 如果想要一次就获取所有的分组，使用groups()方法，复数形式。\n",
    "* 括号在正则表达式中有特殊的含义，如果想要匹配括号就需要用反斜杠转译"
   ]
  },
  {
   "cell_type": "code",
   "execution_count": 5,
   "metadata": {},
   "outputs": [
    {
     "name": "stdout",
     "output_type": "stream",
     "text": [
      "444;231-4321;444-231-4321\n",
      "('444', '231-4321')\n"
     ]
    }
   ],
   "source": [
    "import re\n",
    "\n",
    "example = \"my number is 444-231-4321,and his number is 454-213-8765,and her number is 1111-666-9999\"\n",
    "phoneNumberRegex = re.compile(r'(\\d{3})-(\\d{3}-\\d{4})')# 分成两组\n",
    "mo = phoneNumberRegex.search(example)\n",
    "if mo :\n",
    "    print(mo.group(1),mo.group(2),mo.group(),sep=';') #分组\n",
    "    print(mo.groups())  #一次性获取所有的分组，但是也只返回一个匹配的结果\n",
    "else:\n",
    "    print(\"没有找到\")"
   ]
  },
  {
   "cell_type": "markdown",
   "metadata": {},
   "source": [
    "### 使用管道匹配多个分组，作用同\"或\""
   ]
  },
  {
   "cell_type": "code",
   "execution_count": 6,
   "metadata": {},
   "outputs": [
    {
     "name": "stdout",
     "output_type": "stream",
     "text": [
      "Batman\n",
      "Superman\n"
     ]
    }
   ],
   "source": [
    "import re\n",
    "heroRegex = re.compile(r'Batman|Superman')\n",
    "mo1 = heroRegex.search('Batman and Superman are very good man!')\n",
    "print(mo1.group())\n",
    "mo2 = heroRegex.search('Superman and Batman are very nice man!')\n",
    "print(mo2.group())"
   ]
  },
  {
   "cell_type": "markdown",
   "metadata": {},
   "source": [
    "### 当前缀一样的时候，可以使用括号来分割\n"
   ]
  },
  {
   "cell_type": "code",
   "execution_count": 22,
   "metadata": {},
   "outputs": [
    {
     "name": "stdout",
     "output_type": "stream",
     "text": [
      "Spiderman;Spider\n"
     ]
    }
   ],
   "source": [
    "import re\n",
    "manRegex = re.compile(r'(Super|Bat|Iron|Spider)man')\n",
    "mo = manRegex.search('Spiderman is very cute!')\n",
    "print(mo.group(),mo.group(1),sep=\";\")"
   ]
  },
  {
   "cell_type": "markdown",
   "metadata": {},
   "source": [
    "### ?   *   +\n",
    "？是在说，“匹配这个问好之前的分组零次或一次”   * 意味着 “匹配零次或多次”  + 意味着  “匹配1次或多次”\n",
    "### 使用花括号匹配特定的次数\n",
    "* (ha){3}  ->  匹配 'hahaha'\n",
    "* 也可以制定一个范围  (ha){3,5}-> 匹配\"hahaha\",\"hahahaha\",\"hahahahaha\"\n",
    "* 也可以不写花括号中的第一个或第二个数字，不限定最大自和最小值\n",
    "\n",
    "## 贪心与非贪心匹配\n",
    ">python 的正则表达式默认是“贪心”的，这表示在有二义的情况下，它们会尽可能匹配最长的字符串。花括号的“非贪心”版本匹配尽可能最短的字符串，即在结束的花括号后跟着一个问号。\n",
    "注意：\n",
    "问号 在正则表达式中可能有两种含义：声明非贪心匹配或表示可选的分组。这两种含义是完全无关的。"
   ]
  },
  {
   "cell_type": "code",
   "execution_count": 29,
   "metadata": {},
   "outputs": [
    {
     "name": "stdout",
     "output_type": "stream",
     "text": [
      "hahahahaha 5\n",
      "hahaha 3\n"
     ]
    }
   ],
   "source": [
    "import re\n",
    "haRegex = re.compile(r'(ha){3,5}')#贪心版本\n",
    "haRegex2 = re.compile(r'(ha){3,5}?') #非贪心版本\n",
    "mo = haRegex.search('he is laughing,hahahahahaha')\n",
    "if mo:\n",
    "    print(mo.group(),mo.group().count('ha'))\n",
    "mo2 = haRegex2.search('he is laughing,hahahahahaha')\n",
    "if mo2:\n",
    "    print(mo2.group(),mo2.group().count('ha'))"
   ]
  },
  {
   "cell_type": "markdown",
   "metadata": {},
   "source": [
    "## findall()方法\n",
    "除了 search 方法外，Regex对象也有一个findall()方法。\n",
    "* search 将返回一个Match对象，包含被查找字符串中的“第一次”匹配的文本，\n",
    "* findall()方法将返回一组字符串，包含被查找字符串中的所有匹配。\n",
    "* findall()方法返回一个列表。"
   ]
  },
  {
   "cell_type": "code",
   "execution_count": 33,
   "metadata": {},
   "outputs": [
    {
     "name": "stdout",
     "output_type": "stream",
     "text": [
      "['444-231-4321', '454-213-8765', '111-666-9999'];[('444', '231-4321'), ('454', '213-8765'), ('111', '666-9999')]\n"
     ]
    }
   ],
   "source": [
    "import re\n",
    "\n",
    "example = \"my number is 444-231-4321,and his number is 454-213-8765,and her number is 1111-666-9999\"\n",
    "phoneNumberRegex = re.compile(r'\\d{3}-\\d{3}-\\d{4}')# 没有分组\n",
    "phoneNumberRegex2 = re.compile(r'(\\d{3})-(\\d{3}-\\d{4})')#有分组\n",
    "results = phoneNumberRegex.findall(example)\n",
    "results2 = phoneNumberRegex2.findall(example)\n",
    "print(results,results2,sep=\";\")"
   ]
  },
  {
   "cell_type": "markdown",
   "metadata": {},
   "source": [
    "## 字符分类\n",
    "* \\d ->   0 到 9 的任意数字 \n",
    "* \\D ->   除0 到 9 以外的任何字符\n",
    "* \\w ->   任何字母、数字或下划线，可以认为是匹配“单词”字符\n",
    "* \\W ->   除字母、数字、下划线以外的任何字符\n",
    "* \\s ->   空格、制表符、或换行符，可以认为是匹配“空白” 字符\n",
    "* \\S ->   除空格、制表符和换行符以外的任何字符\n",
    "## 使用方括号定义自己的字符分类\n",
    "* 字符分类 [0-5] 只匹配 0 到 5\n",
    "* [aeiouAEIOU] -> 匹配所有元音字母，不区分大小写\n",
    "* [a-zA-Z0-9]  ->  匹配所有小写字母，大写字母和数字\n",
    "### 通过在字符分类的左方括号后加上一个插入字符(^)，将可以得到“非字符类”，作用同取反\n",
    "* [^aeiouAEIOU]  ->  匹配所有非元音"
   ]
  },
  {
   "cell_type": "code",
   "execution_count": 10,
   "metadata": {},
   "outputs": [
    {
     "name": "stdout",
     "output_type": "stream",
     "text": [
      "['I', 'a', 'e', 'a', 'e', 'a']\n",
      "['h', 'v', 'd', 'r', 'm']\n"
     ]
    }
   ],
   "source": [
    "import re\n",
    "\n",
    "example = 'I have a dream!'\n",
    "\n",
    "regex1 = re.compile(r'[aeiouAEIOU]')\n",
    "regex2 = re.compile(r'[^aeiouAEIOU\\s\\W]')\n",
    "print(regex1.findall(example))\n",
    "print(regex2.findall(example))"
   ]
  },
  {
   "cell_type": "markdown",
   "metadata": {},
   "source": [
    "### 插入字符和美元字符\n",
    "* 可以在正则表达式的开始处使用插入符号(^)，表明匹配必须发生在查找文本的开始处。\n",
    "* 类似的，可以在正则表达式的末尾加上美元符号,表示该字符串必须在这个正则表达式的模式结束。\n",
    "* 可以同时使用两个符号，表明整个字符串必须匹配该模式，也就是说，只匹配该字符串的某个子集是不够的。"
   ]
  },
  {
   "cell_type": "code",
   "execution_count": 42,
   "metadata": {},
   "outputs": [
    {
     "name": "stdout",
     "output_type": "stream",
     "text": [
      "['hello']\n",
      "['2']\n",
      "[]\n",
      "[]\n",
      "[]\n",
      "['123787']\n"
     ]
    }
   ],
   "source": [
    "import re\n",
    "regex = re.compile(r'^hello')\n",
    "print(regex.findall('hello,world'))\n",
    "regex = re.compile(r'\\d$')\n",
    "print(regex.findall('I have 42'))\n",
    "regex = re.compile(r'^\\d+$') #匹配从开始到结束都是数字的字符串\n",
    "print(regex.findall('344441k'))\n",
    "print(regex.findall('a33434'))\n",
    "print(regex.findall('68787er899898'))\n",
    "print(regex.findall('123787'))"
   ]
  },
  {
   "cell_type": "markdown",
   "metadata": {},
   "source": [
    "## 通配字符\n",
    "* 在正则表达式中， \".\"  （句点） 字符称为通配符\n",
    "* 它匹配除了换行之外的所有字符。\n",
    "* 句点字符只匹配一个字符，要匹配真正的句点，使用转译。"
   ]
  },
  {
   "cell_type": "code",
   "execution_count": 44,
   "metadata": {},
   "outputs": [
    {
     "name": "stdout",
     "output_type": "stream",
     "text": [
      "['cat', 'hat', 'sat', 'lat', 'mat']\n"
     ]
    }
   ],
   "source": [
    "import re\n",
    "regex = re.compile(r'.at')\n",
    "print(regex.findall('The cat in the hat sat on the flat mat.'))"
   ]
  },
  {
   "cell_type": "markdown",
   "metadata": {},
   "source": [
    "# 点 -星（.* ）匹配任意文本\n",
    "其默认是贪婪匹配，非贪婪模式加问号"
   ]
  },
  {
   "cell_type": "code",
   "execution_count": 45,
   "metadata": {},
   "outputs": [
    {
     "name": "stdout",
     "output_type": "stream",
     "text": [
      "['<To serve man> for dinner.>']\n",
      "['<To serve man>']\n"
     ]
    }
   ],
   "source": [
    "import re\n",
    "example = '<To serve man> for dinner.>'\n",
    "regex1 = re.compile(r'<.*>')\n",
    "regex2 = re.compile(r'<.*?>') #非贪婪模式\n",
    "print(regex1.findall(example))\n",
    "print(regex2.findall(example))"
   ]
  },
  {
   "cell_type": "markdown",
   "metadata": {},
   "source": [
    "## 不区分大小写的匹配\n",
    "要让正则表达式不区分大小写\n",
    "* 可以向re.compile()传入 re.IGNORECASE \n",
    "* 或 re.I,作为第二个参数"
   ]
  },
  {
   "cell_type": "code",
   "execution_count": 48,
   "metadata": {},
   "outputs": [
    {
     "name": "stdout",
     "output_type": "stream",
     "text": [
      "['APPLE']\n"
     ]
    }
   ],
   "source": [
    "import re\n",
    "example = 'This is an APPLE'\n",
    "regex = re.compile(r'apple',re.I)\n",
    "print(regex.findall(example))"
   ]
  },
  {
   "cell_type": "markdown",
   "metadata": {},
   "source": [
    "## 用 sub()方法替换字符串\n",
    "* Regex 对象的sub() 方法需要传入两个参数。\n",
    "* 第一个参数是一个字符串，用于取代发现的匹配。\n",
    "* 第二个参数是一个字符串，即需要被替换的字符串。\n",
    "* sub()方法返回替换完成后的字符串。"
   ]
  },
  {
   "cell_type": "code",
   "execution_count": 56,
   "metadata": {},
   "outputs": [
    {
     "name": "stdout",
     "output_type": "stream",
     "text": [
      "Mr.potter is very clever.\n"
     ]
    }
   ],
   "source": [
    "import re\n",
    "example = 'Harry potter is very clever.'\n",
    "regex = re.compile(r'Harry \\w+')\n",
    "print(regex.sub('Mr.potter',example))"
   ]
  },
  {
   "cell_type": "markdown",
   "metadata": {},
   "source": [
    "### 在sub()的第一参数中，可以输入 \\1  \\2   \\3  .....。表示“在替换找那个输入分组1、2、3...”"
   ]
  },
  {
   "cell_type": "code",
   "execution_count": 58,
   "metadata": {},
   "outputs": [
    {
     "name": "stdout",
     "output_type": "stream",
     "text": [
      "p**** is very clever.\n"
     ]
    }
   ],
   "source": [
    "import re\n",
    "example = 'Harry potter is very clever.'\n",
    "regex = re.compile(r'Harry (\\w)\\w*')\n",
    "print(regex.sub(r'\\1****',example))"
   ]
  },
  {
   "cell_type": "markdown",
   "metadata": {},
   "source": [
    "## 文件重命名案例\n",
    "\n",
    "Cloudbabies.S01E01.Fly.Away.Home[www.lxwc.com.cn].avi   --->    Cloudbabies.S01E01.Fly.Away.Home.avi"
   ]
  },
  {
   "cell_type": "code",
   "execution_count": 89,
   "metadata": {},
   "outputs": [
    {
     "name": "stdout",
     "output_type": "stream",
     "text": [
      "('Cloudbabies.S01E01.Fly.Away.Home', '[www.lxwc.com.cn]', '.avi')\n"
     ]
    }
   ],
   "source": [
    "import re\n",
    "fileName = 'Cloudbabies.S01E01.Fly.Away.Home[www.lxwc.com.cn].avi'\n",
    "renameRegex = re.compile(r'(.*)(\\[www.lxwc.com.cn\\])(\\.avi)')\n",
    "mo = renameRegex.search(fileName)\n",
    "if mo:\n",
    "    print(mo.groups())\n",
    "else:\n",
    "    print(\"未找到匹配\")"
   ]
  },
  {
   "cell_type": "code",
   "execution_count": 11,
   "metadata": {},
   "outputs": [
    {
     "data": {
      "text/plain": [
       "'CENSORED gave the secret documents to CENSORED.'"
      ]
     },
     "execution_count": 11,
     "metadata": {},
     "output_type": "execute_result"
    }
   ],
   "source": [
    "namesRegex = re.compile(r'Agent \\w+')\n",
    "namesRegex.sub('CENSORED', 'Agent Alice gave the secret documents to Agent Bob.')"
   ]
  },
  {
   "cell_type": "markdown",
   "metadata": {},
   "source": [
    "#### 如果要匹配的文本模式很简单，正则表达式就很好。\n",
    "#### 但匹配复杂的文本模式，可能需要长的、费解的正则表达式。\n",
    ">你可以告诉re.compile()，忽略正则表达式字符串中的空白符和注释，从而缓解这一点。要实现这种详细模式，可以向re.compile()传入变量re.VERBOSE，作为第二个参数。"
   ]
  },
  {
   "cell_type": "code",
   "execution_count": 12,
   "metadata": {},
   "outputs": [],
   "source": [
    "phoneRegex = re.compile(r'''(\n",
    "    (\\d{3}|\\(\\d{3}\\))?               # area code\n",
    "    (\\s|-|\\.)?                       # separator\n",
    "    \\d{3}                            # first 3 digits\n",
    "    (\\s|-|\\.)                        # separator\n",
    "    \\d{4}                            # last 4 digits\n",
    "    (\\s*(ext|x|ext.)\\s*\\d{2,5})?     # extension\n",
    "    )''', re.VERBOSE)\n",
    "# 请注意，前面的例子使用了三重引号(''' ''')，创建了一个多行字符串。这样就可以将正则表达式定义放在多行中，让它更可读。"
   ]
  },
  {
   "cell_type": "code",
   "execution_count": null,
   "metadata": {},
   "outputs": [],
   "source": []
  }
 ],
 "metadata": {
  "kernelspec": {
   "display_name": "Python 3",
   "language": "python",
   "name": "python3"
  },
  "language_info": {
   "codemirror_mode": {
    "name": "ipython",
    "version": 3
   },
   "file_extension": ".py",
   "mimetype": "text/x-python",
   "name": "python",
   "nbconvert_exporter": "python",
   "pygments_lexer": "ipython3",
   "version": "3.8.2"
  }
 },
 "nbformat": 4,
 "nbformat_minor": 2
}
