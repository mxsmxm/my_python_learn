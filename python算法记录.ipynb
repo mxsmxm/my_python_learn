{
 "cells": [
  {
   "cell_type": "markdown",
   "metadata": {},
   "source": [
    "### 冒泡排序"
   ]
  },
  {
   "cell_type": "code",
   "execution_count": 6,
   "metadata": {},
   "outputs": [
    {
     "name": "stdout",
     "output_type": "stream",
     "text": [
      "[12, 9, 15, 6, 23]\n",
      "[9, 12, 6, 15, 23]\n",
      "[9, 6, 12, 15, 23]\n",
      "[6, 9, 12, 15, 23]\n"
     ]
    }
   ],
   "source": [
    "def bubbleSort(numbers):                       # 冒泡算法的实现\n",
    "    for j in range(len(numbers) - 1, 0, -1):\n",
    "        for i in range(j):\n",
    "            if numbers[i] > numbers[i+1]:      # 把数值小的数字放到顶端\n",
    "                numbers[i], numbers[i+1] = numbers[i+1], numbers[i]  \n",
    "        print(numbers)\n",
    "def main():                               # 主函数\n",
    "    numbers = [23, 12, 9, 15, 6]\n",
    "    bubbleSort(numbers)\n",
    "\n",
    "main()"
   ]
  },
  {
   "cell_type": "code",
   "execution_count": 3,
   "metadata": {},
   "outputs": [
    {
     "data": {
      "text/plain": [
       "[4, 3, 2, 1, 0]"
      ]
     },
     "execution_count": 3,
     "metadata": {},
     "output_type": "execute_result"
    }
   ],
   "source": [
    "list(range(4,-1,-1))"
   ]
  },
  {
   "cell_type": "code",
   "execution_count": null,
   "metadata": {},
   "outputs": [],
   "source": []
  }
 ],
 "metadata": {
  "kernelspec": {
   "display_name": "Python 3",
   "language": "python",
   "name": "python3"
  },
  "language_info": {
   "codemirror_mode": {
    "name": "ipython",
    "version": 3
   },
   "file_extension": ".py",
   "mimetype": "text/x-python",
   "name": "python",
   "nbconvert_exporter": "python",
   "pygments_lexer": "ipython3",
   "version": "3.8.2"
  }
 },
 "nbformat": 4,
 "nbformat_minor": 4
}
