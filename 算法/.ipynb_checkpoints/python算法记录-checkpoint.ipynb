{
 "cells": [
  {
   "cell_type": "markdown",
   "metadata": {},
   "source": [
    "### 冒泡排序"
   ]
  },
  {
   "cell_type": "code",
   "execution_count": 6,
   "metadata": {},
   "outputs": [
    {
     "name": "stdout",
     "output_type": "stream",
     "text": [
      "[12, 9, 15, 6, 23]\n",
      "[9, 12, 6, 15, 23]\n",
      "[9, 6, 12, 15, 23]\n",
      "[6, 9, 12, 15, 23]\n"
     ]
    }
   ],
   "source": [
    "def bubbleSort(numbers):                       # 冒泡算法的实现\n",
    "    for j in range(len(numbers) - 1, 0, -1):\n",
    "        for i in range(j):\n",
    "            if numbers[i] > numbers[i+1]:      # 把数值小的数字放到顶端\n",
    "                numbers[i], numbers[i+1] = numbers[i+1], numbers[i]  \n",
    "        print(numbers)\n",
    "def main():                               # 主函数\n",
    "    numbers = [23, 12, 9, 15, 6]\n",
    "    bubbleSort(numbers)\n",
    "\n",
    "main()"
   ]
  },
  {
   "cell_type": "code",
   "execution_count": 3,
   "metadata": {},
   "outputs": [
    {
     "data": {
      "text/plain": [
       "[4, 3, 2, 1, 0]"
      ]
     },
     "execution_count": 3,
     "metadata": {},
     "output_type": "execute_result"
    }
   ],
   "source": [
    "list(range(4,-1,-1))"
   ]
  },
  {
   "cell_type": "markdown",
   "metadata": {},
   "source": [
    "## 杨辉三角形"
   ]
  },
  {
   "cell_type": "code",
   "execution_count": 11,
   "metadata": {},
   "outputs": [
    {
     "name": "stdout",
     "output_type": "stream",
     "text": [
      "1 \n",
      "1 1 \n",
      "1 2 1 \n",
      "1 3 3 1 \n",
      "1 4 6 4 1 \n",
      "1 5 10 10 5 1 \n",
      "1 6 15 20 15 6 1 \n",
      "1 7 21 35 35 21 7 1 \n",
      "1 8 28 56 70 56 28 8 1 \n",
      "1 9 36 84 126 126 84 36 9 1 \n",
      "              1               \n",
      "             1 1              \n",
      "            1 2 1             \n",
      "           1 3 3 1            \n",
      "          1 4 6 4 1           \n",
      "        1 5 10 10 5 1         \n",
      "       1 6 15 20 15 6 1       \n",
      "     1 7 21 35 35 21 7 1      \n",
      "    1 8 28 56 70 56 28 8 1    \n",
      " 1 9 36 84 126 126 84 36 9 1  \n"
     ]
    }
   ],
   "source": [
    "# 十层\n",
    "lst = [[] for i in range(10)]\n",
    "\n",
    "# 第一层和第二层的1\n",
    "lst[0].append(1)\n",
    "lst[1].append(1)\n",
    "lst[1].append(1)\n",
    "\n",
    "# 第三层及以后\n",
    "for i in range(2,10):\n",
    "    # i 为层索引\n",
    "    lst[i].append(1) #首元素为1\n",
    "    for j in range(1,i):\n",
    "        # j为需要加上上层两个元素的值的索引\n",
    "        lst[i].append(lst[i-1][j-1] + lst[i-1][j])\n",
    "    lst[i].append(1) #尾元素1\n",
    "\n",
    "# 打印 输出\n",
    "for i in lst:\n",
    "    for j in i:\n",
    "        print(j,end = ' ')\n",
    "    print()\n",
    "    \n",
    "## 居中对齐显示\n",
    "lst = [' '.join(map(str,inner_lst)) for inner_lst in lst ]\n",
    "for s in lst:\n",
    "    print(f'{s:^30}')"
   ]
  },
  {
   "cell_type": "markdown",
   "metadata": {},
   "source": [
    "## 蛇形填数"
   ]
  },
  {
   "cell_type": "code",
   "execution_count": 3,
   "metadata": {},
   "outputs": [
    {
     "data": {
      "text/html": [
       "<div>\n",
       "<style scoped>\n",
       "    .dataframe tbody tr th:only-of-type {\n",
       "        vertical-align: middle;\n",
       "    }\n",
       "\n",
       "    .dataframe tbody tr th {\n",
       "        vertical-align: top;\n",
       "    }\n",
       "\n",
       "    .dataframe thead th {\n",
       "        text-align: right;\n",
       "    }\n",
       "</style>\n",
       "<table border=\"1\" class=\"dataframe\">\n",
       "  <thead>\n",
       "    <tr style=\"text-align: right;\">\n",
       "      <th></th>\n",
       "      <th>0</th>\n",
       "      <th>1</th>\n",
       "      <th>2</th>\n",
       "      <th>3</th>\n",
       "      <th>4</th>\n",
       "      <th>5</th>\n",
       "      <th>6</th>\n",
       "      <th>7</th>\n",
       "    </tr>\n",
       "  </thead>\n",
       "  <tbody>\n",
       "    <tr>\n",
       "      <th>0</th>\n",
       "      <td>22</td>\n",
       "      <td>23</td>\n",
       "      <td>24</td>\n",
       "      <td>25</td>\n",
       "      <td>26</td>\n",
       "      <td>27</td>\n",
       "      <td>28</td>\n",
       "      <td>1</td>\n",
       "    </tr>\n",
       "    <tr>\n",
       "      <th>1</th>\n",
       "      <td>21</td>\n",
       "      <td>44</td>\n",
       "      <td>45</td>\n",
       "      <td>46</td>\n",
       "      <td>47</td>\n",
       "      <td>48</td>\n",
       "      <td>29</td>\n",
       "      <td>2</td>\n",
       "    </tr>\n",
       "    <tr>\n",
       "      <th>2</th>\n",
       "      <td>20</td>\n",
       "      <td>43</td>\n",
       "      <td>58</td>\n",
       "      <td>59</td>\n",
       "      <td>60</td>\n",
       "      <td>49</td>\n",
       "      <td>30</td>\n",
       "      <td>3</td>\n",
       "    </tr>\n",
       "    <tr>\n",
       "      <th>3</th>\n",
       "      <td>19</td>\n",
       "      <td>42</td>\n",
       "      <td>57</td>\n",
       "      <td>64</td>\n",
       "      <td>61</td>\n",
       "      <td>50</td>\n",
       "      <td>31</td>\n",
       "      <td>4</td>\n",
       "    </tr>\n",
       "    <tr>\n",
       "      <th>4</th>\n",
       "      <td>18</td>\n",
       "      <td>41</td>\n",
       "      <td>56</td>\n",
       "      <td>63</td>\n",
       "      <td>62</td>\n",
       "      <td>51</td>\n",
       "      <td>32</td>\n",
       "      <td>5</td>\n",
       "    </tr>\n",
       "    <tr>\n",
       "      <th>5</th>\n",
       "      <td>17</td>\n",
       "      <td>40</td>\n",
       "      <td>55</td>\n",
       "      <td>54</td>\n",
       "      <td>53</td>\n",
       "      <td>52</td>\n",
       "      <td>33</td>\n",
       "      <td>6</td>\n",
       "    </tr>\n",
       "    <tr>\n",
       "      <th>6</th>\n",
       "      <td>16</td>\n",
       "      <td>39</td>\n",
       "      <td>38</td>\n",
       "      <td>37</td>\n",
       "      <td>36</td>\n",
       "      <td>35</td>\n",
       "      <td>34</td>\n",
       "      <td>7</td>\n",
       "    </tr>\n",
       "    <tr>\n",
       "      <th>7</th>\n",
       "      <td>15</td>\n",
       "      <td>14</td>\n",
       "      <td>13</td>\n",
       "      <td>12</td>\n",
       "      <td>11</td>\n",
       "      <td>10</td>\n",
       "      <td>9</td>\n",
       "      <td>8</td>\n",
       "    </tr>\n",
       "  </tbody>\n",
       "</table>\n",
       "</div>"
      ],
      "text/plain": [
       "    0   1   2   3   4   5   6  7\n",
       "0  22  23  24  25  26  27  28  1\n",
       "1  21  44  45  46  47  48  29  2\n",
       "2  20  43  58  59  60  49  30  3\n",
       "3  19  42  57  64  61  50  31  4\n",
       "4  18  41  56  63  62  51  32  5\n",
       "5  17  40  55  54  53  52  33  6\n",
       "6  16  39  38  37  36  35  34  7\n",
       "7  15  14  13  12  11  10   9  8"
      ]
     },
     "execution_count": 3,
     "metadata": {},
     "output_type": "execute_result"
    }
   ],
   "source": [
    "\"\"\"\n",
    "n = 4 的蛇形方阵\n",
    "10 11 12 1\n",
    " 9 16 13 2\n",
    " 8 15 14 3\n",
    " 7  6  5 4\n",
    "\"\"\"\n",
    "\n",
    "total = 1\n",
    "n = 8\n",
    "lst = [[0 for i in range(n)]for i in range(n)]\n",
    "x ,y = 0,n-1   #记录坐标，行与列的索引\n",
    "lst[x][y] = 1 #初始化第一个格子为1，然后判断下一个格子\n",
    "\n",
    "while total < n**2:\n",
    "    # 向下走，如果没有出界并且当前格子为0 则可以走\n",
    "    while (x + 1< n) and lst[x+1][y] == 0:\n",
    "        total += 1\n",
    "        lst[x+1][y] = total\n",
    "        x += 1\n",
    "    # 向左走，如果没有出界，并且当前格子为0，则可以走\n",
    "    while (y-1>=0) and lst[x][y-1] == 0:\n",
    "        total += 1\n",
    "        lst[x][y-1] = total\n",
    "        y -= 1\n",
    "    # 向上走，如果没有出界，并且当前格子为0，则可以走\n",
    "    while (x-1 >= 0) and lst[x-1][y] == 0:\n",
    "        total += 1\n",
    "        lst[x-1][y] = total\n",
    "        x -= 1\n",
    "    # 向右走，如果没有出界，并且当前格子为0，则可以走\n",
    "    while (y+1 < n) and lst[x][y+1] == 0:\n",
    "        total += 1\n",
    "        lst[x][y+1] = total\n",
    "        y += 1\n",
    "    \n",
    "import pandas as pd\n",
    "df = pd.DataFrame(lst)\n",
    "df"
   ]
  },
  {
   "cell_type": "markdown",
   "metadata": {},
   "source": [
    "## P型编码"
   ]
  },
  {
   "cell_type": "markdown",
   "metadata": {},
   "source": [
    ">给定一个完全由数字字符（'0','1','2',…,'9'）构成的字符串str，请写出str的p型编码串。例如：字符串122344111可被描述为\"1个1、2个2、1个3、2个4、3个1\"，因此我们说122344111的p型编码串为1122132431；类似的道理，编码串101可以用来描述1111111111；00000000000可描述为\"11个0\"，因此它的p型编码串即为110；100200300可描述为\"1个1、2个 0、1个2、2个0、1个3、2个0\"，因此它的p型编码串为112012201320。\n",
    "* 输入输入仅一行，包含字符串str。每一行字符串最多包含1000个数字字符。输出输出该字符串对应的p型编码串。\n",
    "* 样例输入 :122344111\n",
    "* 样例输出 :1122132431"
   ]
  },
  {
   "cell_type": "code",
   "execution_count": 11,
   "metadata": {},
   "outputs": [
    {
     "name": "stdin",
     "output_type": "stream",
     "text": [
      "请输入： 122344111\n"
     ]
    },
    {
     "name": "stdout",
     "output_type": "stream",
     "text": [
      "1122132431\n"
     ]
    }
   ],
   "source": [
    "M = input('请输入：')\n",
    "\n",
    "count = 1\n",
    "C = ''\n",
    "M = M + ' '\n",
    "for i in range(len(M)-1):\n",
    "    if M[i] == M[i+1]:  #比较相邻的两个元素\n",
    "        count += 1\n",
    "    else:\n",
    "        C += str(count) + M[i]\n",
    "        count = 1\n",
    "print(C)"
   ]
  },
  {
   "cell_type": "markdown",
   "metadata": {},
   "source": [
    "## 最长单词\n",
    "*  输入：一个以'.' 结尾的简单英文句子(长度不超过500)，单词之间用空格分隔，没有缩写形式和其他特殊形式。\n",
    "* 输出：该句子中最长的单词，如果有多个，输出第一个。\n",
    "\n",
    "### 例子：\n",
    "* 输入： 'Thank you for being the answer to my Christmas prayer.'\n",
    "* 输出： Christmas"
   ]
  },
  {
   "cell_type": "code",
   "execution_count": 15,
   "metadata": {},
   "outputs": [
    {
     "name": "stdin",
     "output_type": "stream",
     "text": [
      "请输入 Thank you for being the answer to my Christmas prayer.\n"
     ]
    },
    {
     "name": "stdout",
     "output_type": "stream",
     "text": [
      "Christmas\n"
     ]
    }
   ],
   "source": [
    "sentence = input('请输入')\n",
    "lst = sentence.split(' ')\n",
    "lst[-1] = lst[-1][:-1]\n",
    "lst.sort(key=lambda x:len(x))\n",
    "print(lst[-1])"
   ]
  },
  {
   "cell_type": "code",
   "execution_count": null,
   "metadata": {},
   "outputs": [],
   "source": []
  }
 ],
 "metadata": {
  "kernelspec": {
   "display_name": "Python 3",
   "language": "python",
   "name": "python3"
  },
  "language_info": {
   "codemirror_mode": {
    "name": "ipython",
    "version": 3
   },
   "file_extension": ".py",
   "mimetype": "text/x-python",
   "name": "python",
   "nbconvert_exporter": "python",
   "pygments_lexer": "ipython3",
   "version": "3.8.2"
  }
 },
 "nbformat": 4,
 "nbformat_minor": 4
}
