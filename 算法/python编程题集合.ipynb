{
 "cells": [
  {
   "cell_type": "markdown",
   "metadata": {},
   "source": [
    "# 字符串P形编码"
   ]
  },
  {
   "cell_type": "markdown",
   "metadata": {},
   "source": [
    ">给定一个完全由数字字符（'0','1','2',…,'9'）构成的字符串str，请写出str的p型编码串。例如：字符串122344111可被描述为\"1个1、2个2、1个3、2个4、3个1\"，因此我们说122344111的p型编码串为1122132431；类似的道理，编码串101可以用来描述1111111111；00000000000可描述为\"11个0\"，因此它的p型编码串即为110；100200300可描述为\"1个1、2个 0、1个2、2个0、1个3、2个0\"，因此它的p型编码串为112012201320。\n",
    "* 输入输入仅一行，包含字符串str。每一行字符串最多包含1000个数字字符。输出输出该字符串对应的p型编码串。\n",
    "* 样例输入 :122344111\n",
    "* 样例输出 :1122132431"
   ]
  },
  {
   "cell_type": "code",
   "execution_count": null,
   "metadata": {},
   "outputs": [],
   "source": [
    "M = input('请输入：')\n",
    "C = ''\n",
    "i = j = count = 0\n",
    "while i <= len(M):\n",
    "    print(i)\n",
    "    j = i\n",
    "    while j <=len(M):\n",
    "        if M[j] == M[i]:\n",
    "            j += 1\n",
    "        else:\n",
    "            break\n",
    "    C += (j-i)*M[i]\n",
    "    print(C)\n",
    "    i = j\n",
    "\n",
    "   "
   ]
  }
 ],
 "metadata": {
  "kernelspec": {
   "display_name": "Python 3",
   "language": "python",
   "name": "python3"
  },
  "language_info": {
   "codemirror_mode": {
    "name": "ipython",
    "version": 3
   },
   "file_extension": ".py",
   "mimetype": "text/x-python",
   "name": "python",
   "nbconvert_exporter": "python",
   "pygments_lexer": "ipython3",
   "version": "3.8.2"
  }
 },
 "nbformat": 4,
 "nbformat_minor": 4
}
