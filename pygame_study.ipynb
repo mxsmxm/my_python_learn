{
 "cells": [
  {
   "cell_type": "markdown",
   "metadata": {},
   "source": [
    "### 游戏素材网站 \n",
    "https://opengameart.org/\n",
    "\n",
    "https://pixabay.com/zh/"
   ]
  },
  {
   "cell_type": "code",
   "execution_count": 1,
   "metadata": {},
   "outputs": [
    {
     "name": "stdout",
     "output_type": "stream",
     "text": [
      "pygame 1.9.6\n",
      "Hello from the pygame community. https://www.pygame.org/contribute.html\n"
     ]
    },
    {
     "ename": "SystemExit",
     "evalue": "",
     "output_type": "error",
     "traceback": [
      "An exception has occurred, use %tb to see the full traceback.\n",
      "\u001b[1;31mSystemExit\u001b[0m\n"
     ]
    },
    {
     "name": "stderr",
     "output_type": "stream",
     "text": [
      "C:\\Users\\mx\\Anaconda3\\envs\\games\\lib\\site-packages\\IPython\\core\\interactiveshell.py:3334: UserWarning: To exit: use 'exit', 'quit', or Ctrl-D.\n",
      "  warn(\"To exit: use 'exit', 'quit', or Ctrl-D.\", stacklevel=1)\n"
     ]
    }
   ],
   "source": [
    "import pygame,sys\n",
    "from pygame.locals import *\n",
    "#初始化pygame\n",
    "pygame.init()\n",
    "#设置GUI窗口\n",
    "windowSurface = pygame.display.set_mode((960,720),0,32)\n",
    "windowRect = windowSurface.get_rect()\n",
    "pygame.display.set_caption('hello,world!')\n",
    "#设置颜色\n",
    "BLACK = (0, 0, 0)\n",
    "WHITE = (255, 255, 255)\n",
    "RED = (255, 0, 0)\n",
    "GREEN = (0, 255, 0)\n",
    "BLUE = (0, 0, 255)\n",
    "#设置字体\n",
    "basicFont = pygame.font.SysFont(None,48)#使用系统默认字体，字号为48\n",
    "#设置文字,并放置在窗口中间位置\n",
    "text = basicFont.render('hello,world!',True, BLUE, None)#抗锯齿，蓝字，背景色(默认为None)\n",
    "textRect = text.get_rect()\n",
    "textRect.centerx = windowRect.centerx\n",
    "textRect.centery = windowRect.centery\n",
    "#绘制背景色\n",
    "windowSurface.fill(WHITE)\n",
    "#绘制一个圆形\n",
    "pygame.draw.circle(windowSurface,BLUE,(300,50),20,0)# 绘制的位置，颜色，圆心坐标，半径，边框(0表示填充)\n",
    "#绘制文字\n",
    "windowSurface.blit(text,textRect)\n",
    "#将 GUI窗口更新到屏幕上显示\n",
    "pygame.display.update()\n",
    "\n",
    "#运行游戏循环\n",
    "while True:\n",
    "    for event in pygame.event.get():\n",
    "        if event.type == QUIT:\n",
    "            pygame.quit()\n",
    "            sys.exit()"
   ]
  },
  {
   "cell_type": "code",
   "execution_count": 7,
   "metadata": {},
   "outputs": [
    {
     "ename": "SystemExit",
     "evalue": "",
     "output_type": "error",
     "traceback": [
      "An exception has occurred, use %tb to see the full traceback.\n",
      "\u001b[1;31mSystemExit\u001b[0m\n"
     ]
    }
   ],
   "source": [
    "import pygame,sys\n",
    "from pygame.locals import *\n",
    "#初始化pygame\n",
    "pygame.init()\n",
    "#设置GUI窗口\n",
    "windowSurface = pygame.display.set_mode((480,360),0,32)\n",
    "windowSurface.fill((255,255,255))\n",
    "\n",
    "#运行游戏循环\n",
    "while True:\n",
    "    for event in pygame.event.get():\n",
    "        if event.type == QUIT:\n",
    "            pygame.quit()\n",
    "            sys.exit()\n",
    "    mySurface = pygame.Surface((50,50))#返回一个Surface对象\n",
    "    mySurface.fill((255,0,0))\n",
    "    mySurfaceRect = mySurface.get_rect()\n",
    "    \n",
    "    windowSurface.blit(mySurface,mySurfaceRect)#将一个Surface对象绘制到另一个Surface对象上\n",
    "    pygame.display.update()"
   ]
  },
  {
   "cell_type": "code",
   "execution_count": 8,
   "metadata": {},
   "outputs": [],
   "source": [
    "import pygame\n",
    "pygame.image.load()"
   ]
  }
 ],
 "metadata": {
  "kernelspec": {
   "display_name": "Python 3",
   "language": "python",
   "name": "python3"
  },
  "language_info": {
   "codemirror_mode": {
    "name": "ipython",
    "version": 3
   },
   "file_extension": ".py",
   "mimetype": "text/x-python",
   "name": "python",
   "nbconvert_exporter": "python",
   "pygments_lexer": "ipython3",
   "version": "3.7.4"
  }
 },
 "nbformat": 4,
 "nbformat_minor": 2
}
